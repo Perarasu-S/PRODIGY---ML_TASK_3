{
  "nbformat": 4,
  "nbformat_minor": 0,
  "metadata": {
    "colab": {
      "provenance": [],
      "mount_file_id": "1o5YTOgtAH-7z9p42PPX5jaPqPm8AeJWV",
      "authorship_tag": "ABX9TyPPD+mchYE4vWljyzpQ/+Tt"
    },
    "kernelspec": {
      "name": "python3",
      "display_name": "Python 3"
    },
    "language_info": {
      "name": "python"
    }
  },
  "cells": [
    {
      "cell_type": "code",
      "source": [
        "# Utilize only 50% of GPU\n",
        "\n",
        "from tensorflow.compat.v1 import ConfigProto\n",
        "from tensorflow.compat.v1 import InteractiveSession\n",
        "\n",
        "config= ConfigProto()\n",
        "config.gpu_options.per_process_gpu_memory_fraction= 0.5\n",
        "config.gpu_options.allow_growth= True\n",
        "session= InteractiveSession(config= config)"
      ],
      "metadata": {
        "id": "Tp0VAMBufAsw"
      },
      "execution_count": 2,
      "outputs": []
    },
    {
      "cell_type": "code",
      "source": [
        "!mkdir -p ~/.kaggle\n",
        "!cp kaggle.json ~/.kaggle/"
      ],
      "metadata": {
        "id": "Xx6c1uVjni_Z"
      },
      "execution_count": 3,
      "outputs": []
    },
    {
      "cell_type": "code",
      "source": [
        "!kaggle datasets download -d salader/dogs-vs-cats"
      ],
      "metadata": {
        "colab": {
          "base_uri": "https://localhost:8080/"
        },
        "id": "Z4iHU8c0ljy0",
        "outputId": "22c6e7b0-2f26-42a9-b540-c125db5605b6"
      },
      "execution_count": 4,
      "outputs": [
        {
          "output_type": "stream",
          "name": "stdout",
          "text": [
            "Warning: Your Kaggle API key is readable by other users on this system! To fix this, you can run 'chmod 600 /root/.kaggle/kaggle.json'\n",
            "Downloading dogs-vs-cats.zip to /content\n",
            " 99% 1.06G/1.06G [00:09<00:00, 209MB/s]\n",
            "100% 1.06G/1.06G [00:09<00:00, 126MB/s]\n"
          ]
        }
      ]
    },
    {
      "cell_type": "code",
      "source": [
        "import zipfile\n",
        "zip_ref= zipfile.ZipFile('/content/dogs-vs-cats.zip', 'r')\n",
        "zip_ref.extractall('/content')\n",
        "zip_ref.close()"
      ],
      "metadata": {
        "id": "aYleILGUlnB8"
      },
      "execution_count": 6,
      "outputs": []
    },
    {
      "cell_type": "code",
      "source": [
        "# CNN\n",
        "\n",
        "import tensorflow as tf\n",
        "from tensorflow.keras.preprocessing.image import ImageDataGenerator"
      ],
      "metadata": {
        "id": "nfCBZMFznIkL"
      },
      "execution_count": 7,
      "outputs": []
    },
    {
      "cell_type": "code",
      "source": [
        "# Preprocessing\n",
        "\n",
        "train_datagen= ImageDataGenerator(rescale= 1./255,\n",
        "                                  shear_range= 0.2,\n",
        "                                  zoom_range= 0.2,\n",
        "                                  horizontal_flip= True)"
      ],
      "metadata": {
        "id": "kmBLsHwwnUm7"
      },
      "execution_count": 8,
      "outputs": []
    },
    {
      "cell_type": "code",
      "source": [
        "training_set= train_datagen.flow_from_directory('/content/train',\n",
        "                                                target_size= (64, 64),\n",
        "                                                batch_size= 32,\n",
        "                                                class_mode= 'binary')\n",
        "\n",
        "test_datagen= ImageDataGenerator(rescale= 1./255)\n",
        "test_set= test_datagen.flow_from_directory('/content/test',\n",
        "                                           target_size= (64, 64),\n",
        "                                           batch_size= 32,\n",
        "                                           class_mode= 'binary')"
      ],
      "metadata": {
        "colab": {
          "base_uri": "https://localhost:8080/"
        },
        "id": "6J_zmUIsouuh",
        "outputId": "f382469a-f333-4f4e-d987-d9e7636932e7"
      },
      "execution_count": 9,
      "outputs": [
        {
          "output_type": "stream",
          "name": "stdout",
          "text": [
            "Found 20000 images belonging to 2 classes.\n",
            "Found 5000 images belonging to 2 classes.\n"
          ]
        }
      ]
    },
    {
      "cell_type": "code",
      "source": [
        "import tensorflow as tf\n",
        "from tensorflow.keras.layers import Conv2D\n",
        "from tensorflow.keras.layers import Dense"
      ],
      "metadata": {
        "id": "C5gUmQ5IpjyN"
      },
      "execution_count": 11,
      "outputs": []
    },
    {
      "cell_type": "code",
      "source": [
        "from tensorflow.keras.regularizers import l2"
      ],
      "metadata": {
        "id": "UUTcB296p4PL"
      },
      "execution_count": 12,
      "outputs": []
    },
    {
      "cell_type": "code",
      "source": [
        "# Building CNN\n",
        "\n",
        "cnn= tf.keras.models.Sequential()\n",
        "\n",
        "# Convolution\n",
        "cnn.add(tf.keras.layers.Conv2D(filters= 32, padding= 'same', kernel_size= 3, activation= 'relu', strides= 2, input_shape= [64, 64,3]))\n",
        "\n",
        "# Pooling\n",
        "cnn.add(tf.keras.layers.MaxPool2D(pool_size= 2, strides= 2))\n",
        "\n",
        "# Second Convolution\n",
        "cnn.add(tf.keras.layers.Conv2D(filters= 32, padding= 'same', kernel_size= 3, activation= 'relu'))\n",
        "cnn.add(tf.keras.layers.MaxPool2D(pool_size= 2, strides= 2))\n",
        "\n",
        "# Flatten\n",
        "cnn.add(tf.keras.layers.Flatten())\n",
        "\n",
        "# Dense layer\n",
        "cnn.add(tf.keras.layers.Dense(units= 128, activation= 'relu'))\n",
        "\n",
        "# Output layer (SVM)\n",
        "cnn.add(Dense(1, kernel_regularizer= tf.keras.regularizers.l2(0.01), activation= 'linear'))\n",
        "\n",
        "cnn.summary()"
      ],
      "metadata": {
        "id": "L-t_vtBWpu9A",
        "colab": {
          "base_uri": "https://localhost:8080/"
        },
        "outputId": "f28d63c2-f447-40c7-ca53-04abdbd1b224"
      },
      "execution_count": 18,
      "outputs": [
        {
          "output_type": "stream",
          "name": "stdout",
          "text": [
            "Model: \"sequential_4\"\n",
            "_________________________________________________________________\n",
            " Layer (type)                Output Shape              Param #   \n",
            "=================================================================\n",
            " conv2d_8 (Conv2D)           (None, 32, 32, 32)        896       \n",
            "                                                                 \n",
            " max_pooling2d_7 (MaxPoolin  (None, 16, 16, 32)        0         \n",
            " g2D)                                                            \n",
            "                                                                 \n",
            " conv2d_9 (Conv2D)           (None, 16, 16, 32)        9248      \n",
            "                                                                 \n",
            " max_pooling2d_8 (MaxPoolin  (None, 8, 8, 32)          0         \n",
            " g2D)                                                            \n",
            "                                                                 \n",
            " flatten_2 (Flatten)         (None, 2048)              0         \n",
            "                                                                 \n",
            " dense_4 (Dense)             (None, 128)               262272    \n",
            "                                                                 \n",
            " dense_5 (Dense)             (None, 1)                 129       \n",
            "                                                                 \n",
            "=================================================================\n",
            "Total params: 272545 (1.04 MB)\n",
            "Trainable params: 272545 (1.04 MB)\n",
            "Non-trainable params: 0 (0.00 Byte)\n",
            "_________________________________________________________________\n"
          ]
        }
      ]
    },
    {
      "cell_type": "code",
      "source": [
        "# Training\n",
        "\n",
        "cnn.compile(optimizer= 'adam', loss= 'hinge', metrics= ['accuracy'])\n",
        "\n",
        "r= cnn.fit(x= training_set, validation_data= test_set, epochs= 15)"
      ],
      "metadata": {
        "colab": {
          "base_uri": "https://localhost:8080/"
        },
        "id": "4DRSflsr-T9Y",
        "outputId": "545acf6f-8f10-4950-ce32-2754a87af0a6"
      },
      "execution_count": 19,
      "outputs": [
        {
          "output_type": "stream",
          "name": "stdout",
          "text": [
            "Epoch 1/15\n",
            "625/625 [==============================] - 91s 143ms/step - loss: 0.8022 - accuracy: 0.6184 - val_loss: 0.7298 - val_accuracy: 0.7260\n",
            "Epoch 2/15\n",
            "625/625 [==============================] - 87s 139ms/step - loss: 0.6346 - accuracy: 0.7050 - val_loss: 0.6001 - val_accuracy: 0.7126\n",
            "Epoch 3/15\n",
            "625/625 [==============================] - 89s 143ms/step - loss: 0.5890 - accuracy: 0.7237 - val_loss: 0.5573 - val_accuracy: 0.7248\n",
            "Epoch 4/15\n",
            "625/625 [==============================] - 87s 139ms/step - loss: 0.5530 - accuracy: 0.7416 - val_loss: 0.5031 - val_accuracy: 0.7772\n",
            "Epoch 5/15\n",
            "625/625 [==============================] - 88s 140ms/step - loss: 0.5283 - accuracy: 0.7521 - val_loss: 0.5108 - val_accuracy: 0.7926\n",
            "Epoch 6/15\n",
            "625/625 [==============================] - 87s 140ms/step - loss: 0.5133 - accuracy: 0.7622 - val_loss: 0.4768 - val_accuracy: 0.7928\n",
            "Epoch 7/15\n",
            "625/625 [==============================] - 85s 136ms/step - loss: 0.4961 - accuracy: 0.7713 - val_loss: 0.4580 - val_accuracy: 0.7842\n",
            "Epoch 8/15\n",
            "625/625 [==============================] - 84s 134ms/step - loss: 0.4787 - accuracy: 0.7785 - val_loss: 0.4472 - val_accuracy: 0.7908\n",
            "Epoch 9/15\n",
            "625/625 [==============================] - 86s 137ms/step - loss: 0.4640 - accuracy: 0.7857 - val_loss: 0.4309 - val_accuracy: 0.8096\n",
            "Epoch 10/15\n",
            "625/625 [==============================] - 88s 141ms/step - loss: 0.4495 - accuracy: 0.7952 - val_loss: 0.4483 - val_accuracy: 0.8050\n",
            "Epoch 11/15\n",
            "625/625 [==============================] - 85s 136ms/step - loss: 0.4517 - accuracy: 0.7908 - val_loss: 0.4222 - val_accuracy: 0.8046\n",
            "Epoch 12/15\n",
            "625/625 [==============================] - 87s 138ms/step - loss: 0.4393 - accuracy: 0.7969 - val_loss: 0.4086 - val_accuracy: 0.8132\n",
            "Epoch 13/15\n",
            "625/625 [==============================] - 83s 133ms/step - loss: 0.4311 - accuracy: 0.8008 - val_loss: 0.4289 - val_accuracy: 0.7910\n",
            "Epoch 14/15\n",
            "625/625 [==============================] - 87s 139ms/step - loss: 0.4237 - accuracy: 0.8049 - val_loss: 0.4488 - val_accuracy: 0.8112\n",
            "Epoch 15/15\n",
            "625/625 [==============================] - 85s 135ms/step - loss: 0.4167 - accuracy: 0.8079 - val_loss: 0.4159 - val_accuracy: 0.8282\n"
          ]
        }
      ]
    },
    {
      "cell_type": "code",
      "source": [
        "# Plotting\n",
        "\n",
        "import matplotlib.pyplot as plt\n",
        "\n",
        "plt.plot(r.history['accuracy'], label= 'train loss')\n",
        "plt.plot(r.history['val_accuracy'], label= 'val loss')\n",
        "plt.legend()\n",
        "plt.show()\n",
        "\n",
        "plt.plot(r.history['accuracy'], label= 'train acc')\n",
        "plt.plot(r.history['val_accuracy'], label= 'val acc')\n",
        "plt.legend()\n",
        "plt.show()"
      ],
      "metadata": {
        "colab": {
          "base_uri": "https://localhost:8080/",
          "height": 843
        },
        "id": "sdwi-yE__X5N",
        "outputId": "bb9c3acf-ae33-4e97-a286-07827e25bc3e"
      },
      "execution_count": 22,
      "outputs": [
        {
          "output_type": "display_data",
          "data": {
            "text/plain": [
              "<Figure size 640x480 with 1 Axes>"
            ],
            "image/png": "[encoded data removed]"
          },
          "metadata": {}
        },
        {
          "output_type": "display_data",
          "data": {
            "text/plain": [
              "<Figure size 640x480 with 1 Axes>"
            ],
            "image/png": "[encoded data removed]"
          },
          "metadata": {}
        }
      ]
    },
    {
      "cell_type": "code",
      "source": [
        "from tensorflow.keras.models import load_model\n",
        "\n",
        "cnn.save('model_catvdog.h5')"
      ],
      "metadata": {
        "colab": {
          "base_uri": "https://localhost:8080/"
        },
        "id": "_lMzuF_2HHvj",
        "outputId": "fb40a253-0f54-4b75-e8c8-92364fbb4b80"
      },
      "execution_count": 24,
      "outputs": [
        {
          "output_type": "stream",
          "name": "stderr",
          "text": [
            "/usr/local/lib/python3.10/dist-packages/keras/src/engine/training.py:3103: UserWarning: You are saving your model as an HDF5 file via `model.save()`. This file format is considered legacy. We recommend using instead the native Keras format, e.g. `model.save('my_model.keras')`.\n",
            "  saving_api.save_model(\n"
          ]
        }
      ]
    },
    {
      "cell_type": "code",
      "source": [
        "# Prediction\n",
        "\n",
        "import numpy as np\n",
        "\n",
        "from tensorflow.keras.preprocessing import image\n",
        "test_img= image.load_img('/content/test/dogs/dog.100.jpg', target_size= (64,64))\n",
        "test_img= image.img_to_array(test_img)\n",
        "test_img= test_img/255\n",
        "test_img= np.expand_dims(test_img, axis= 0)\n",
        "result= cnn.predict(test_img)"
      ],
      "metadata": {
        "colab": {
          "base_uri": "https://localhost:8080/"
        },
        "id": "TvBoXdePHYi1",
        "outputId": "35a8ff7f-67a0-4904-a318-c4774e828c6c"
      },
      "execution_count": 29,
      "outputs": [
        {
          "output_type": "stream",
          "name": "stdout",
          "text": [
            "1/1 [==============================] - 0s 271ms/step\n"
          ]
        }
      ]
    },
    {
      "cell_type": "code",
      "source": [
        "result"
      ],
      "metadata": {
        "colab": {
          "base_uri": "https://localhost:8080/"
        },
        "id": "YEwsWH6VIaBM",
        "outputId": "ae4ff63a-8e6e-485d-954f-209acee43190"
      },
      "execution_count": 30,
      "outputs": [
        {
          "output_type": "execute_result",
          "data": {
            "text/plain": [
              "array([[1.3686655]], dtype=float32)"
            ]
          },
          "metadata": {},
          "execution_count": 30
        }
      ]
    },
    {
      "cell_type": "code",
      "source": [
        "if result[0]>0:\n",
        "  print('The image is of a dog')\n",
        "\n",
        "else:\n",
        "  print('The image is of a cat')"
      ],
      "metadata": {
        "colab": {
          "base_uri": "https://localhost:8080/"
        },
        "id": "xYYvhba2Iazw",
        "outputId": "14b05571-e805-45ab-993e-7e50be0b2c31"
      },
      "execution_count": 32,
      "outputs": [
        {
          "output_type": "stream",
          "name": "stdout",
          "text": [
            "The image is of a dog\n"
          ]
        }
      ]
    }
  ]
}